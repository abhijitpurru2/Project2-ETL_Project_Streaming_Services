{
 "cells": [
  {
   "cell_type": "code",
   "execution_count": 3,
   "metadata": {},
   "outputs": [],
   "source": [
    "#Import dependencies\n",
    "import pandas as pd\n",
    "from sqlalchemy import create_engine\n",
    "import psycopg2\n",
    "from Postgres_Login import username\n",
    "from Postgres_Login import password"
   ]
  },
  {
   "cell_type": "code",
   "execution_count": 4,
   "metadata": {},
   "outputs": [
    {
     "output_type": "execute_result",
     "data": {
      "text/plain": [
       "    show_id     type                                    title  \\\n",
       "0  81145628    Movie  Norm of the North: King Sized Adventure   \n",
       "1  80117401    Movie               Jandino: Whatever it Takes   \n",
       "2  70234439  TV Show                       Transformers Prime   \n",
       "3  80058654  TV Show         Transformers: Robots in Disguise   \n",
       "4  80125979    Movie                             #realityhigh   \n",
       "\n",
       "                   director  \\\n",
       "0  Richard Finn, Tim Maltby   \n",
       "1                       NaN   \n",
       "2                       NaN   \n",
       "3                       NaN   \n",
       "4          Fernando Lebrija   \n",
       "\n",
       "                                                cast  \\\n",
       "0  Alan Marriott, Andrew Toth, Brian Dobson, Cole...   \n",
       "1                                   Jandino Asporaat   \n",
       "2  Peter Cullen, Sumalee Montano, Frank Welker, J...   \n",
       "3  Will Friedle, Darren Criss, Constance Zimmer, ...   \n",
       "4  Nesta Cooper, Kate Walsh, John Michael Higgins...   \n",
       "\n",
       "                                    country         date_added  release_year  \\\n",
       "0  United States, India, South Korea, China  September 9, 2019          2019   \n",
       "1                            United Kingdom  September 9, 2016          2016   \n",
       "2                             United States  September 8, 2018          2013   \n",
       "3                             United States  September 8, 2018          2016   \n",
       "4                             United States  September 8, 2017          2017   \n",
       "\n",
       "     rating  duration                           listed_in  \\\n",
       "0     TV-PG    90 min  Children & Family Movies, Comedies   \n",
       "1     TV-MA    94 min                     Stand-Up Comedy   \n",
       "2  TV-Y7-FV  1 Season                            Kids' TV   \n",
       "3     TV-Y7  1 Season                            Kids' TV   \n",
       "4     TV-14    99 min                            Comedies   \n",
       "\n",
       "                                         description  \n",
       "0  Before planning an awesome wedding for his gra...  \n",
       "1  Jandino Asporaat riffs on the challenges of ra...  \n",
       "2  With the help of three human allies, the Autob...  \n",
       "3  When a prison ship crash unleashes hundreds of...  \n",
       "4  When nerdy high schooler Dani finally attracts...  "
      ],
      "text/html": "<div>\n<style scoped>\n    .dataframe tbody tr th:only-of-type {\n        vertical-align: middle;\n    }\n\n    .dataframe tbody tr th {\n        vertical-align: top;\n    }\n\n    .dataframe thead th {\n        text-align: right;\n    }\n</style>\n<table border=\"1\" class=\"dataframe\">\n  <thead>\n    <tr style=\"text-align: right;\">\n      <th></th>\n      <th>show_id</th>\n      <th>type</th>\n      <th>title</th>\n      <th>director</th>\n      <th>cast</th>\n      <th>country</th>\n      <th>date_added</th>\n      <th>release_year</th>\n      <th>rating</th>\n      <th>duration</th>\n      <th>listed_in</th>\n      <th>description</th>\n    </tr>\n  </thead>\n  <tbody>\n    <tr>\n      <th>0</th>\n      <td>81145628</td>\n      <td>Movie</td>\n      <td>Norm of the North: King Sized Adventure</td>\n      <td>Richard Finn, Tim Maltby</td>\n      <td>Alan Marriott, Andrew Toth, Brian Dobson, Cole...</td>\n      <td>United States, India, South Korea, China</td>\n      <td>September 9, 2019</td>\n      <td>2019</td>\n      <td>TV-PG</td>\n      <td>90 min</td>\n      <td>Children &amp; Family Movies, Comedies</td>\n      <td>Before planning an awesome wedding for his gra...</td>\n    </tr>\n    <tr>\n      <th>1</th>\n      <td>80117401</td>\n      <td>Movie</td>\n      <td>Jandino: Whatever it Takes</td>\n      <td>NaN</td>\n      <td>Jandino Asporaat</td>\n      <td>United Kingdom</td>\n      <td>September 9, 2016</td>\n      <td>2016</td>\n      <td>TV-MA</td>\n      <td>94 min</td>\n      <td>Stand-Up Comedy</td>\n      <td>Jandino Asporaat riffs on the challenges of ra...</td>\n    </tr>\n    <tr>\n      <th>2</th>\n      <td>70234439</td>\n      <td>TV Show</td>\n      <td>Transformers Prime</td>\n      <td>NaN</td>\n      <td>Peter Cullen, Sumalee Montano, Frank Welker, J...</td>\n      <td>United States</td>\n      <td>September 8, 2018</td>\n      <td>2013</td>\n      <td>TV-Y7-FV</td>\n      <td>1 Season</td>\n      <td>Kids' TV</td>\n      <td>With the help of three human allies, the Autob...</td>\n    </tr>\n    <tr>\n      <th>3</th>\n      <td>80058654</td>\n      <td>TV Show</td>\n      <td>Transformers: Robots in Disguise</td>\n      <td>NaN</td>\n      <td>Will Friedle, Darren Criss, Constance Zimmer, ...</td>\n      <td>United States</td>\n      <td>September 8, 2018</td>\n      <td>2016</td>\n      <td>TV-Y7</td>\n      <td>1 Season</td>\n      <td>Kids' TV</td>\n      <td>When a prison ship crash unleashes hundreds of...</td>\n    </tr>\n    <tr>\n      <th>4</th>\n      <td>80125979</td>\n      <td>Movie</td>\n      <td>#realityhigh</td>\n      <td>Fernando Lebrija</td>\n      <td>Nesta Cooper, Kate Walsh, John Michael Higgins...</td>\n      <td>United States</td>\n      <td>September 8, 2017</td>\n      <td>2017</td>\n      <td>TV-14</td>\n      <td>99 min</td>\n      <td>Comedies</td>\n      <td>When nerdy high schooler Dani finally attracts...</td>\n    </tr>\n  </tbody>\n</table>\n</div>"
     },
     "metadata": {},
     "execution_count": 4
    }
   ],
   "source": [
    "#Store CSV into DataFrame\n",
    "csv_file = \"Resources/netflix_dataset.csv\"\n",
    "netflix_data_df = pd.read_csv(csv_file)\n",
    "netflix_data_df.head()"
   ]
  },
  {
   "cell_type": "code",
   "execution_count": 5,
   "metadata": {},
   "outputs": [
    {
     "output_type": "execute_result",
     "data": {
      "text/plain": [
       "     show_id     type                             title director  \\\n",
       "2   70234439  TV Show                Transformers Prime      NaN   \n",
       "3   80058654  TV Show  Transformers: Robots in Disguise      NaN   \n",
       "5   80163890  TV Show                           Apaches      NaN   \n",
       "8   80117902  TV Show                      Fire Chasers      NaN   \n",
       "26  80244601  TV Show                   Castle of Stars      NaN   \n",
       "\n",
       "                                                 cast        country  \\\n",
       "2   Peter Cullen, Sumalee Montano, Frank Welker, J...  United States   \n",
       "3   Will Friedle, Darren Criss, Constance Zimmer, ...  United States   \n",
       "5   Alberto Ammann, Eloy Azorín, Verónica Echegui,...          Spain   \n",
       "8                                                 NaN  United States   \n",
       "26  Chaiyapol Pupart, Jintanutda Lummakanon, Worra...            NaN   \n",
       "\n",
       "           date_added  release_year    rating  duration  \\\n",
       "2   September 8, 2018          2013  TV-Y7-FV  1 Season   \n",
       "3   September 8, 2018          2016     TV-Y7  1 Season   \n",
       "5   September 8, 2017          2016     TV-MA  1 Season   \n",
       "8   September 8, 2017          2017     TV-MA  1 Season   \n",
       "26  September 7, 2018          2015     TV-14  1 Season   \n",
       "\n",
       "                                            listed_in  \\\n",
       "2                                            Kids' TV   \n",
       "3                                            Kids' TV   \n",
       "5   Crime TV Shows, International TV Shows, Spanis...   \n",
       "8                     Docuseries, Science & Nature TV   \n",
       "26  International TV Shows, Romantic TV Shows, TV ...   \n",
       "\n",
       "                                          description  \n",
       "2   With the help of three human allies, the Autob...  \n",
       "3   When a prison ship crash unleashes hundreds of...  \n",
       "5   A young journalist is forced into a life of cr...  \n",
       "8   As California's 2016 fire season rages, brave ...  \n",
       "26  As four couples with different lifestyles go t...  "
      ],
      "text/html": "<div>\n<style scoped>\n    .dataframe tbody tr th:only-of-type {\n        vertical-align: middle;\n    }\n\n    .dataframe tbody tr th {\n        vertical-align: top;\n    }\n\n    .dataframe thead th {\n        text-align: right;\n    }\n</style>\n<table border=\"1\" class=\"dataframe\">\n  <thead>\n    <tr style=\"text-align: right;\">\n      <th></th>\n      <th>show_id</th>\n      <th>type</th>\n      <th>title</th>\n      <th>director</th>\n      <th>cast</th>\n      <th>country</th>\n      <th>date_added</th>\n      <th>release_year</th>\n      <th>rating</th>\n      <th>duration</th>\n      <th>listed_in</th>\n      <th>description</th>\n    </tr>\n  </thead>\n  <tbody>\n    <tr>\n      <th>2</th>\n      <td>70234439</td>\n      <td>TV Show</td>\n      <td>Transformers Prime</td>\n      <td>NaN</td>\n      <td>Peter Cullen, Sumalee Montano, Frank Welker, J...</td>\n      <td>United States</td>\n      <td>September 8, 2018</td>\n      <td>2013</td>\n      <td>TV-Y7-FV</td>\n      <td>1 Season</td>\n      <td>Kids' TV</td>\n      <td>With the help of three human allies, the Autob...</td>\n    </tr>\n    <tr>\n      <th>3</th>\n      <td>80058654</td>\n      <td>TV Show</td>\n      <td>Transformers: Robots in Disguise</td>\n      <td>NaN</td>\n      <td>Will Friedle, Darren Criss, Constance Zimmer, ...</td>\n      <td>United States</td>\n      <td>September 8, 2018</td>\n      <td>2016</td>\n      <td>TV-Y7</td>\n      <td>1 Season</td>\n      <td>Kids' TV</td>\n      <td>When a prison ship crash unleashes hundreds of...</td>\n    </tr>\n    <tr>\n      <th>5</th>\n      <td>80163890</td>\n      <td>TV Show</td>\n      <td>Apaches</td>\n      <td>NaN</td>\n      <td>Alberto Ammann, Eloy Azorín, Verónica Echegui,...</td>\n      <td>Spain</td>\n      <td>September 8, 2017</td>\n      <td>2016</td>\n      <td>TV-MA</td>\n      <td>1 Season</td>\n      <td>Crime TV Shows, International TV Shows, Spanis...</td>\n      <td>A young journalist is forced into a life of cr...</td>\n    </tr>\n    <tr>\n      <th>8</th>\n      <td>80117902</td>\n      <td>TV Show</td>\n      <td>Fire Chasers</td>\n      <td>NaN</td>\n      <td>NaN</td>\n      <td>United States</td>\n      <td>September 8, 2017</td>\n      <td>2017</td>\n      <td>TV-MA</td>\n      <td>1 Season</td>\n      <td>Docuseries, Science &amp; Nature TV</td>\n      <td>As California's 2016 fire season rages, brave ...</td>\n    </tr>\n    <tr>\n      <th>26</th>\n      <td>80244601</td>\n      <td>TV Show</td>\n      <td>Castle of Stars</td>\n      <td>NaN</td>\n      <td>Chaiyapol Pupart, Jintanutda Lummakanon, Worra...</td>\n      <td>NaN</td>\n      <td>September 7, 2018</td>\n      <td>2015</td>\n      <td>TV-14</td>\n      <td>1 Season</td>\n      <td>International TV Shows, Romantic TV Shows, TV ...</td>\n      <td>As four couples with different lifestyles go t...</td>\n    </tr>\n  </tbody>\n</table>\n</div>"
     },
     "metadata": {},
     "execution_count": 5
    }
   ],
   "source": [
    "#Drop 'Movies', only want 'TV Shows'\n",
    "new_netflix_data_df = netflix_data_df.loc[netflix_data_df['type'] == 'TV Show']\n",
    "new_netflix_data_df.head()"
   ]
  },
  {
   "cell_type": "code",
   "execution_count": 6,
   "metadata": {},
   "outputs": [
    {
     "output_type": "execute_result",
     "data": {
      "text/plain": [
       "                       Title of Show  \\\n",
       "2                 Transformers Prime   \n",
       "3   Transformers: Robots in Disguise   \n",
       "5                            Apaches   \n",
       "8                       Fire Chasers   \n",
       "26                   Castle of Stars   \n",
       "\n",
       "                                               Genres No. of Seasons  \\\n",
       "2                                            Kids' TV       1 Season   \n",
       "3                                            Kids' TV       1 Season   \n",
       "5   Crime TV Shows, International TV Shows, Spanis...       1 Season   \n",
       "8                     Docuseries, Science & Nature TV       1 Season   \n",
       "26  International TV Shows, Romantic TV Shows, TV ...       1 Season   \n",
       "\n",
       "   TV Rating  release_year Streaming Service  \n",
       "2   TV-Y7-FV          2013               yes  \n",
       "3      TV-Y7          2016               yes  \n",
       "5      TV-MA          2016               yes  \n",
       "8      TV-MA          2017               yes  \n",
       "26     TV-14          2015               yes  "
      ],
      "text/html": "<div>\n<style scoped>\n    .dataframe tbody tr th:only-of-type {\n        vertical-align: middle;\n    }\n\n    .dataframe tbody tr th {\n        vertical-align: top;\n    }\n\n    .dataframe thead th {\n        text-align: right;\n    }\n</style>\n<table border=\"1\" class=\"dataframe\">\n  <thead>\n    <tr style=\"text-align: right;\">\n      <th></th>\n      <th>Title of Show</th>\n      <th>Genres</th>\n      <th>No. of Seasons</th>\n      <th>TV Rating</th>\n      <th>release_year</th>\n      <th>Streaming Service</th>\n    </tr>\n  </thead>\n  <tbody>\n    <tr>\n      <th>2</th>\n      <td>Transformers Prime</td>\n      <td>Kids' TV</td>\n      <td>1 Season</td>\n      <td>TV-Y7-FV</td>\n      <td>2013</td>\n      <td>yes</td>\n    </tr>\n    <tr>\n      <th>3</th>\n      <td>Transformers: Robots in Disguise</td>\n      <td>Kids' TV</td>\n      <td>1 Season</td>\n      <td>TV-Y7</td>\n      <td>2016</td>\n      <td>yes</td>\n    </tr>\n    <tr>\n      <th>5</th>\n      <td>Apaches</td>\n      <td>Crime TV Shows, International TV Shows, Spanis...</td>\n      <td>1 Season</td>\n      <td>TV-MA</td>\n      <td>2016</td>\n      <td>yes</td>\n    </tr>\n    <tr>\n      <th>8</th>\n      <td>Fire Chasers</td>\n      <td>Docuseries, Science &amp; Nature TV</td>\n      <td>1 Season</td>\n      <td>TV-MA</td>\n      <td>2017</td>\n      <td>yes</td>\n    </tr>\n    <tr>\n      <th>26</th>\n      <td>Castle of Stars</td>\n      <td>International TV Shows, Romantic TV Shows, TV ...</td>\n      <td>1 Season</td>\n      <td>TV-14</td>\n      <td>2015</td>\n      <td>yes</td>\n    </tr>\n  </tbody>\n</table>\n</div>"
     },
     "metadata": {},
     "execution_count": 6
    }
   ],
   "source": [
    "#Create new data with select columns (Title, Genres, No. of Seasons, TV Rating) \n",
    "#Add new column and name it 'Streaming Service'\n",
    "clean_netflix_data_df = new_netflix_data_df[['title', 'listed_in', 'duration', 'rating', 'release_year']]\n",
    "final_netflix_data = clean_netflix_data_df.rename(columns = {\"title\" : \"Title of Show\",\n",
    "                                                          \"listed_in\" : \"Genres\",\n",
    "                                                          \"duration\" : \"No. of Seasons\",\n",
    "                                                          \"rating\" : \"TV Rating\"})\n",
    "final_netflix_data['Streaming Service'] = 'yes'\n",
    "final_netflix_data.head()"
   ]
  },
  {
   "cell_type": "code",
   "execution_count": 11,
   "metadata": {},
   "outputs": [],
   "source": [
    "#Connect to local database\n",
    "rds_connection_string = f\"{username}:{password}@localhost:5432/streaming_services\"\n",
    "engine = create_engine(f'postgresql://{rds_connection_string}')"
   ]
  },
  {
   "cell_type": "code",
   "execution_count": 12,
   "metadata": {},
   "outputs": [
    {
     "output_type": "execute_result",
     "data": {
      "text/plain": [
       "                      Title of Show  \\\n",
       "0                Transformers Prime   \n",
       "1  Transformers: Robots in Disguise   \n",
       "2                           Apaches   \n",
       "3                      Fire Chasers   \n",
       "4                   Castle of Stars   \n",
       "\n",
       "                                              Genres No. of Seasons TV Rating  \\\n",
       "0                                           Kids' TV       1 Season  TV-Y7-FV   \n",
       "1                                           Kids' TV       1 Season     TV-Y7   \n",
       "2  Crime TV Shows, International TV Shows, Spanis...       1 Season     TV-MA   \n",
       "3                    Docuseries, Science & Nature TV       1 Season     TV-MA   \n",
       "4  International TV Shows, Romantic TV Shows, TV ...       1 Season     TV-14   \n",
       "\n",
       "   release_year Streaming Service  \n",
       "0          2013               yes  \n",
       "1          2016               yes  \n",
       "2          2016               yes  \n",
       "3          2017               yes  \n",
       "4          2015               yes  "
      ],
      "text/html": "<div>\n<style scoped>\n    .dataframe tbody tr th:only-of-type {\n        vertical-align: middle;\n    }\n\n    .dataframe tbody tr th {\n        vertical-align: top;\n    }\n\n    .dataframe thead th {\n        text-align: right;\n    }\n</style>\n<table border=\"1\" class=\"dataframe\">\n  <thead>\n    <tr style=\"text-align: right;\">\n      <th></th>\n      <th>Title of Show</th>\n      <th>Genres</th>\n      <th>No. of Seasons</th>\n      <th>TV Rating</th>\n      <th>release_year</th>\n      <th>Streaming Service</th>\n    </tr>\n  </thead>\n  <tbody>\n    <tr>\n      <th>0</th>\n      <td>Transformers Prime</td>\n      <td>Kids' TV</td>\n      <td>1 Season</td>\n      <td>TV-Y7-FV</td>\n      <td>2013</td>\n      <td>yes</td>\n    </tr>\n    <tr>\n      <th>1</th>\n      <td>Transformers: Robots in Disguise</td>\n      <td>Kids' TV</td>\n      <td>1 Season</td>\n      <td>TV-Y7</td>\n      <td>2016</td>\n      <td>yes</td>\n    </tr>\n    <tr>\n      <th>2</th>\n      <td>Apaches</td>\n      <td>Crime TV Shows, International TV Shows, Spanis...</td>\n      <td>1 Season</td>\n      <td>TV-MA</td>\n      <td>2016</td>\n      <td>yes</td>\n    </tr>\n    <tr>\n      <th>3</th>\n      <td>Fire Chasers</td>\n      <td>Docuseries, Science &amp; Nature TV</td>\n      <td>1 Season</td>\n      <td>TV-MA</td>\n      <td>2017</td>\n      <td>yes</td>\n    </tr>\n    <tr>\n      <th>4</th>\n      <td>Castle of Stars</td>\n      <td>International TV Shows, Romantic TV Shows, TV ...</td>\n      <td>1 Season</td>\n      <td>TV-14</td>\n      <td>2015</td>\n      <td>yes</td>\n    </tr>\n  </tbody>\n</table>\n</div>"
     },
     "metadata": {},
     "execution_count": 12
    }
   ],
   "source": [
    "#Use pandas to load csv converted DataFrame into database\n",
    "final_netflix_data.to_sql(name='netflix2', con=engine, if_exists='append', index=False)\n",
    "pd.read_sql_query('select * from netflix2', con=engine).head()"
   ]
  },
  {
   "cell_type": "code",
   "execution_count": null,
   "metadata": {},
   "outputs": [],
   "source": []
  }
 ],
 "metadata": {
  "kernelspec": {
   "display_name": "Python 3",
   "language": "python",
   "name": "python3"
  },
  "language_info": {
   "codemirror_mode": {
    "name": "ipython",
    "version": 3
   },
   "file_extension": ".py",
   "mimetype": "text/x-python",
   "name": "python",
   "nbconvert_exporter": "python",
   "pygments_lexer": "ipython3",
   "version": "3.8.3-final"
  }
 },
 "nbformat": 4,
 "nbformat_minor": 4
}