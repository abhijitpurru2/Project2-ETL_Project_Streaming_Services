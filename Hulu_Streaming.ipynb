{
 "cells": [
  {
   "cell_type": "code",
   "execution_count": 7,
   "metadata": {
    "collapsed": true,
    "pycharm": {
     "is_executing": false
    }
   },
   "outputs": [],
   "source": [
    "import pandas as pd\n",
    "from sqlalchemy import create_engine\n",
    "from Postgres_Login import username, password\n"
   ]
  },
  {
   "cell_type": "code",
   "execution_count": null,
   "outputs": [],
   "source": [
    "rds_connection_string = f\"{username}:{password}@localhost:5432/streaming_services\"\n",
    "engine = create_engine(f'postgresql://{rds_connection_string}')\n"
   ],
   "metadata": {
    "collapsed": false,
    "pycharm": {
     "name": "#%%\n"
    }
   }
  },
  {
   "cell_type": "code",
   "execution_count": 8,
   "outputs": [],
   "source": [
    "filePath = \"HuluRaw.csv\"\n",
    "data = pd.read_csv(filePath, encoding='utf-8')\n"
   ],
   "metadata": {
    "collapsed": false,
    "pycharm": {
     "name": "#%%\n",
     "is_executing": false
    }
   }
  },
  {
   "cell_type": "code",
   "execution_count": 9,
   "outputs": [
    {
     "data": {
      "text/plain": "                           show/name              show/genre  \\\n0                         Family Guy  Animation and Cartoons   \n1                         South Park                  Comedy   \n2                      American Dad!                  Comedy   \n3  Law & Order: Special Victims Unit                   Drama   \n4                   Naruto Shippuden                   Anime   \n\n   show/seasons_count show/show_rollups/showtime/highest_rating  \n0                  15                                     TV-MA  \n1                  20                                     TV-MA  \n2                   9                                     TV-14  \n3                  18                                     TV-14  \n4                   9                                     TV-14  ",
      "text/html": "<div>\n<style scoped>\n    .dataframe tbody tr th:only-of-type {\n        vertical-align: middle;\n    }\n\n    .dataframe tbody tr th {\n        vertical-align: top;\n    }\n\n    .dataframe thead th {\n        text-align: right;\n    }\n</style>\n<table border=\"1\" class=\"dataframe\">\n  <thead>\n    <tr style=\"text-align: right;\">\n      <th></th>\n      <th>show/name</th>\n      <th>show/genre</th>\n      <th>show/seasons_count</th>\n      <th>show/show_rollups/showtime/highest_rating</th>\n    </tr>\n  </thead>\n  <tbody>\n    <tr>\n      <th>0</th>\n      <td>Family Guy</td>\n      <td>Animation and Cartoons</td>\n      <td>15</td>\n      <td>TV-MA</td>\n    </tr>\n    <tr>\n      <th>1</th>\n      <td>South Park</td>\n      <td>Comedy</td>\n      <td>20</td>\n      <td>TV-MA</td>\n    </tr>\n    <tr>\n      <th>2</th>\n      <td>American Dad!</td>\n      <td>Comedy</td>\n      <td>9</td>\n      <td>TV-14</td>\n    </tr>\n    <tr>\n      <th>3</th>\n      <td>Law &amp; Order: Special Victims Unit</td>\n      <td>Drama</td>\n      <td>18</td>\n      <td>TV-14</td>\n    </tr>\n    <tr>\n      <th>4</th>\n      <td>Naruto Shippuden</td>\n      <td>Anime</td>\n      <td>9</td>\n      <td>TV-14</td>\n    </tr>\n  </tbody>\n</table>\n</div>"
     },
     "metadata": {},
     "output_type": "execute_result",
     "execution_count": 9
    }
   ],
   "source": [
    "dataCleaned = data[['show/name','show/genre','show/seasons_count',\n",
    "                    'show/show_rollups/showtime/highest_rating']]\n",
    "dataCleaned.head()"
   ],
   "metadata": {
    "collapsed": false,
    "pycharm": {
     "name": "#%%\n",
     "is_executing": false
    }
   }
  },
  {
   "cell_type": "code",
   "execution_count": 10,
   "outputs": [
    {
     "data": {
      "text/plain": "                       Title of Show                  Genres  No. of Seasons  \\\n0                         Family Guy  Animation and Cartoons              15   \n1                         South Park                  Comedy              20   \n2                      American Dad!                  Comedy               9   \n3  Law & Order: Special Victims Unit                   Drama              18   \n4                   Naruto Shippuden                   Anime               9   \n\n  TV Rating Hulu  \n0     TV-MA  Yes  \n1     TV-MA  Yes  \n2     TV-14  Yes  \n3     TV-14  Yes  \n4     TV-14  Yes  ",
      "text/html": "<div>\n<style scoped>\n    .dataframe tbody tr th:only-of-type {\n        vertical-align: middle;\n    }\n\n    .dataframe tbody tr th {\n        vertical-align: top;\n    }\n\n    .dataframe thead th {\n        text-align: right;\n    }\n</style>\n<table border=\"1\" class=\"dataframe\">\n  <thead>\n    <tr style=\"text-align: right;\">\n      <th></th>\n      <th>Title of Show</th>\n      <th>Genres</th>\n      <th>No. of Seasons</th>\n      <th>TV Rating</th>\n      <th>Hulu</th>\n    </tr>\n  </thead>\n  <tbody>\n    <tr>\n      <th>0</th>\n      <td>Family Guy</td>\n      <td>Animation and Cartoons</td>\n      <td>15</td>\n      <td>TV-MA</td>\n      <td>Yes</td>\n    </tr>\n    <tr>\n      <th>1</th>\n      <td>South Park</td>\n      <td>Comedy</td>\n      <td>20</td>\n      <td>TV-MA</td>\n      <td>Yes</td>\n    </tr>\n    <tr>\n      <th>2</th>\n      <td>American Dad!</td>\n      <td>Comedy</td>\n      <td>9</td>\n      <td>TV-14</td>\n      <td>Yes</td>\n    </tr>\n    <tr>\n      <th>3</th>\n      <td>Law &amp; Order: Special Victims Unit</td>\n      <td>Drama</td>\n      <td>18</td>\n      <td>TV-14</td>\n      <td>Yes</td>\n    </tr>\n    <tr>\n      <th>4</th>\n      <td>Naruto Shippuden</td>\n      <td>Anime</td>\n      <td>9</td>\n      <td>TV-14</td>\n      <td>Yes</td>\n    </tr>\n  </tbody>\n</table>\n</div>"
     },
     "metadata": {},
     "output_type": "execute_result",
     "execution_count": 10
    }
   ],
   "source": [
    "dataCleaned = dataCleaned.rename(columns={'show/name':'Title of Show',\n",
    "                                          'show/genre':'Genres',\n",
    "                                          'show/seasons_count':'No. of Seasons',\n",
    "                                          'show/show_rollups/showtime/highest_rating':'TV Rating'})\n",
    "dataCleaned['Hulu'] = 'Yes'\n",
    "dataCleaned.head()"
   ],
   "metadata": {
    "collapsed": false,
    "pycharm": {
     "name": "#%%\n",
     "is_executing": false
    }
   }
  },
  {
   "cell_type": "code",
   "execution_count": 66,
   "outputs": [
    {
     "data": {
      "text/plain": "                                name                   genre  \\\n0                         Family Guy  Animation and Cartoons   \n1                         South Park                  Comedy   \n2                      American Dad!                  Comedy   \n3  Law & Order: Special Victims Unit                   Drama   \n4                   Naruto Shippuden                   Anime   \n\n              rating seasons episodes tvrating  \n0         4.35370739      15      288    TV-MA  \n1         4.36303207      20      274    TV-MA  \n2        4.114006824       9      172    TV-14  \n3        4.622855997      18      406    TV-14  \n4  4.400626276000001       9      597    TV-14  ",
      "text/html": "<div>\n<style scoped>\n    .dataframe tbody tr th:only-of-type {\n        vertical-align: middle;\n    }\n\n    .dataframe tbody tr th {\n        vertical-align: top;\n    }\n\n    .dataframe thead th {\n        text-align: right;\n    }\n</style>\n<table border=\"1\" class=\"dataframe\">\n  <thead>\n    <tr style=\"text-align: right;\">\n      <th></th>\n      <th>name</th>\n      <th>genre</th>\n      <th>rating</th>\n      <th>seasons</th>\n      <th>episodes</th>\n      <th>tvrating</th>\n    </tr>\n  </thead>\n  <tbody>\n    <tr>\n      <th>0</th>\n      <td>Family Guy</td>\n      <td>Animation and Cartoons</td>\n      <td>4.35370739</td>\n      <td>15</td>\n      <td>288</td>\n      <td>TV-MA</td>\n    </tr>\n    <tr>\n      <th>1</th>\n      <td>South Park</td>\n      <td>Comedy</td>\n      <td>4.36303207</td>\n      <td>20</td>\n      <td>274</td>\n      <td>TV-MA</td>\n    </tr>\n    <tr>\n      <th>2</th>\n      <td>American Dad!</td>\n      <td>Comedy</td>\n      <td>4.114006824</td>\n      <td>9</td>\n      <td>172</td>\n      <td>TV-14</td>\n    </tr>\n    <tr>\n      <th>3</th>\n      <td>Law &amp; Order: Special Victims Unit</td>\n      <td>Drama</td>\n      <td>4.622855997</td>\n      <td>18</td>\n      <td>406</td>\n      <td>TV-14</td>\n    </tr>\n    <tr>\n      <th>4</th>\n      <td>Naruto Shippuden</td>\n      <td>Anime</td>\n      <td>4.400626276000001</td>\n      <td>9</td>\n      <td>597</td>\n      <td>TV-14</td>\n    </tr>\n  </tbody>\n</table>\n</div>"
     },
     "metadata": {},
     "output_type": "execute_result",
     "execution_count": 66
    }
   ],
   "source": [
    "dataCleaned.to_sql(name='hulu', con=engine, if_exists='append', index=False)\n",
    "pd.read_sql_query('select * from hulu', con=engine).head()"
   ],
   "metadata": {
    "collapsed": false,
    "pycharm": {
     "name": "#%%\n",
     "is_executing": false
    }
   }
  },
  {
   "cell_type": "code",
   "execution_count": null,
   "outputs": [],
   "source": [
    "\n"
   ],
   "metadata": {
    "collapsed": false,
    "pycharm": {
     "name": "#%%\n"
    }
   }
  }
 ],
 "metadata": {
  "language_info": {
   "codemirror_mode": {
    "name": "ipython",
    "version": 2
   },
   "file_extension": ".py",
   "mimetype": "text/x-python",
   "name": "python",
   "nbconvert_exporter": "python",
   "pygments_lexer": "ipython2",
   "version": "2.7.6"
  },
  "kernelspec": {
   "name": "python3",
   "language": "python",
   "display_name": "Python 3"
  },
  "pycharm": {
   "stem_cell": {
    "cell_type": "raw",
    "source": [],
    "metadata": {
     "collapsed": false
    }
   }
  }
 },
 "nbformat": 4,
 "nbformat_minor": 0
}